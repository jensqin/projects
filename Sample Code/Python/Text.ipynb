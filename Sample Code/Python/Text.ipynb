{
 "cells": [
  {
   "cell_type": "markdown",
   "metadata": {},
   "source": [
    "# Stats700-002 Homework 1, Fall 2017\n",
    "### Zhen Qin\n",
    "#### qinzhen@umich.edu\n"
   ]
  },
  {
   "cell_type": "markdown",
   "metadata": {},
   "source": [
    "### Problem 1: Regular expressions\n",
    "\n",
    "1.\n",
    "\n",
    "Use urllib2 to read the wordlist hosted on my website and produce a list of words, store the data as **words**."
   ]
  },
  {
   "cell_type": "code",
   "execution_count": 1,
   "metadata": {
    "collapsed": true
   },
   "outputs": [],
   "source": [
    "# Write code in code blocks.\n",
    "# Here, we use the urllib2 package.\n",
    "\n",
    "import urllib2\n",
    "import re\n",
    "response = urllib2.urlopen('http://www-personal.umich.edu/~klevin/teaching/Fall2017/STATS700-002/lawler_wordlist.txt')\n",
    "words = response.read()\n",
    "words = words.split()"
   ]
  },
  {
   "cell_type": "markdown",
   "metadata": {},
   "source": [
    "2.\n",
    "\n",
    "Here are 69903 words on the list."
   ]
  },
  {
   "cell_type": "code",
   "execution_count": 3,
   "metadata": {},
   "outputs": [
    {
     "data": {
      "text/plain": [
       "69903"
      ]
     },
     "execution_count": 3,
     "metadata": {},
     "output_type": "execute_result"
    }
   ],
   "source": [
    "len(words)"
   ]
  },
  {
   "cell_type": "markdown",
   "metadata": {},
   "source": [
    "3.\n",
    "\n",
    "Filter the parentheses and slashes out of the list, store the new data as **word**, and I am not introducing duplicates into your filtered list."
   ]
  },
  {
   "cell_type": "code",
   "execution_count": 3,
   "metadata": {},
   "outputs": [
    {
     "data": {
      "text/plain": [
       "True"
      ]
     },
     "execution_count": 3,
     "metadata": {},
     "output_type": "execute_result"
    }
   ],
   "source": [
    "regex = re.compile(r'.*/')\n",
    "word = [v for v in words if not bool(re.match(regex, v))]\n",
    "regex = re.compile('(.*)\\(.*\\)(.*)')\n",
    "for i in range(len(word)):\n",
    "    m = re.search(regex, word[i])\n",
    "    if bool(m):\n",
    "        word[i] = m.group(1) + m.group(2)\n",
    "word = list(set(word))\n",
    "len(word) == len(set(word))"
   ]
  },
  {
   "cell_type": "markdown",
   "metadata": {},
   "source": [
    "4.\n",
    "\n",
    "69408 words are left after performing the filtering in the previous step."
   ]
  },
  {
   "cell_type": "code",
   "execution_count": 22,
   "metadata": {},
   "outputs": [
    {
     "data": {
      "text/plain": [
       "69408"
      ]
     },
     "execution_count": 22,
     "metadata": {},
     "output_type": "execute_result"
    }
   ],
   "source": [
    "len(word)"
   ]
  },
  {
   "cell_type": "markdown",
   "metadata": {},
   "source": [
    "5.\n",
    "\n",
    "990 words start with exactly two consecutive vowels."
   ]
  },
  {
   "cell_type": "code",
   "execution_count": 5,
   "metadata": {},
   "outputs": [
    {
     "data": {
      "text/plain": [
       "990"
      ]
     },
     "execution_count": 5,
     "metadata": {},
     "output_type": "execute_result"
    }
   ],
   "source": [
    "regex = re.compile(r'^[aeiou]{2}[^aeiou]|^[aeiou]{2}$')\n",
    "twovowel = [v for v in word if bool(re.match(regex, v))]\n",
    "len(twovowel)"
   ]
  },
  {
   "cell_type": "markdown",
   "metadata": {},
   "source": [
    "6.\n",
    "\n",
    "25174 words do not contain the letter e."
   ]
  },
  {
   "cell_type": "code",
   "execution_count": 6,
   "metadata": {},
   "outputs": [
    {
     "data": {
      "text/plain": [
       "25174"
      ]
     },
     "execution_count": 6,
     "metadata": {},
     "output_type": "execute_result"
    }
   ],
   "source": [
    "noe = [v for v in word if not bool(re.match(r'.*e', v))]\n",
    "len(noe)"
   ]
  },
  {
   "cell_type": "markdown",
   "metadata": {},
   "source": [
    "7.\n",
    "\n",
    "199 words contain at least four instances of the letter a."
   ]
  },
  {
   "cell_type": "code",
   "execution_count": 13,
   "metadata": {},
   "outputs": [
    {
     "data": {
      "text/plain": [
       "199"
      ]
     },
     "execution_count": 13,
     "metadata": {},
     "output_type": "execute_result"
    }
   ],
   "source": [
    "regex = re.compile(r'.*a.*a.*a.*a.*')\n",
    "foura = [v for v in word if bool(re.match(regex, v))]\n",
    "len(foura)"
   ]
  },
  {
   "cell_type": "markdown",
   "metadata": {},
   "source": [
    "8.\n",
    "\n",
    "196 words begin and end with a vowel with only consonants in between, here I do not count those without consonants between vowels."
   ]
  },
  {
   "cell_type": "code",
   "execution_count": 7,
   "metadata": {},
   "outputs": [
    {
     "data": {
      "text/plain": [
       "196"
      ]
     },
     "execution_count": 7,
     "metadata": {},
     "output_type": "execute_result"
    }
   ],
   "source": [
    "regex = re.compile(r'^[aeiou][bcdfghjklmnpqrstvwxz]+[aeiou]$')\n",
    "novowelin = [v for v in word if bool(re.match(regex, v))]\n",
    "len(novowelin)"
   ]
  },
  {
   "cell_type": "markdown",
   "metadata": {},
   "source": [
    "9.\n",
    "\n",
    "555 words start and end with the same two-letter sequence."
   ]
  },
  {
   "cell_type": "code",
   "execution_count": 19,
   "metadata": {},
   "outputs": [
    {
     "data": {
      "text/plain": [
       "555"
      ]
     },
     "execution_count": 19,
     "metadata": {},
     "output_type": "execute_result"
    }
   ],
   "source": [
    "regex = re.compile(r'^([a-z]{2}).*\\1$|^.{2}$|^(.)\\1{2}$')\n",
    "twoseq = [v for v in word if bool(re.match(regex, v))]\n",
    "len(twoseq)"
   ]
  },
  {
   "cell_type": "markdown",
   "metadata": {},
   "source": [
    "### Problem 2: Querying and parsing webpages using beautifulsoup4\n",
    "\n"
   ]
  },
  {
   "cell_type": "markdown",
   "metadata": {},
   "source": [
    "1.\n",
    "\n",
    "Give Harbin as an example. Scrape data from Wikipedia using BeautifulSoup."
   ]
  },
  {
   "cell_type": "code",
   "execution_count": 5,
   "metadata": {
    "collapsed": true
   },
   "outputs": [],
   "source": [
    "import bs4\n",
    "from bs4 import BeautifulSoup\n",
    "import urllib2\n",
    "import re\n",
    "res = urllib2.urlopen('https://en.wikipedia.org/wiki/Harbin')\n",
    "doc = res.read()\n",
    "ht = BeautifulSoup(doc, 'html.parser')"
   ]
  },
  {
   "cell_type": "markdown",
   "metadata": {},
   "source": [
    "Find a Wikipedia page for Harbin that includes such a climate table. Store the table as ct."
   ]
  },
  {
   "cell_type": "code",
   "execution_count": 6,
   "metadata": {
    "collapsed": true
   },
   "outputs": [],
   "source": [
    "tables=ht.find_all('table')\n",
    "reg = re.compile(r'Climate data for .*')\n",
    "for t in tables:\n",
    "    ths = t.find_all(['th','caption'])\n",
    "    for th in ths:\n",
    "        st = th.get_text()\n",
    "        b = bool(re.match(reg,st))\n",
    "        if b:\n",
    "            ct = t\n",
    "            break            "
   ]
  },
  {
   "cell_type": "markdown",
   "metadata": {},
   "source": [
    "The table has 14 children. In fact, from the top to the bottom, there are 14 different pieces that are seperated by lines. Each piece is a child of the table. The table has a header, and then a data table with column names, and finally tails that indicate the source of the table."
   ]
  },
  {
   "cell_type": "code",
   "execution_count": 7,
   "metadata": {},
   "outputs": [
    {
     "data": {
      "text/plain": [
       "14"
      ]
     },
     "execution_count": 7,
     "metadata": {},
     "output_type": "execute_result"
    }
   ],
   "source": [
    "n = 0\n",
    "for i in ct.children:\n",
    "    if isinstance(i,bs4.element.Tag):\n",
    "        n = n + 1\n",
    "n"
   ]
  },
  {
   "cell_type": "markdown",
   "metadata": {},
   "source": [
    "Its children's names are shown below. Their names are tr."
   ]
  },
  {
   "cell_type": "code",
   "execution_count": 8,
   "metadata": {
    "scrolled": false
   },
   "outputs": [
    {
     "name": "stdout",
     "output_type": "stream",
     "text": [
      "tr tr tr tr tr tr tr tr tr tr tr tr tr tr\n"
     ]
    }
   ],
   "source": [
    "for i in ct.children:\n",
    "    if isinstance(i,bs4.element.Tag):\n",
    "        print i.name,"
   ]
  },
  {
   "cell_type": "markdown",
   "metadata": {},
   "source": [
    "Its descendants' names are shown below. Their names are th, tr, td, br, sup, a and span."
   ]
  },
  {
   "cell_type": "code",
   "execution_count": 9,
   "metadata": {
    "scrolled": true
   },
   "outputs": [
    {
     "name": "stdout",
     "output_type": "stream",
     "text": [
      "tr th tr th th th th th th th th th th th th th th tr th td br td br td br td br td br td br td br td br td br td br td br td br td br tr th td br td br td br td br td br td br td br td br td br td br td br td br td br tr th td br td br td br td br td br td br td br td br td br td br td br td br td br tr th td br td br td br td br td br td br td br td br td br td br td br td br td br tr th td br td br td br td br td br td br td br td br td br td br td br td br td br tr th a td br td br td br td br td br td br td br td br td br td br td br td br td br tr th span td td td td td td td td td td td td td tr th a td td td td td td td td td td td td td tr th a td td td td td td td td td td td td td tr th a td td td td td td td td td td td td td tr td sup a tr td sup a\n"
     ]
    }
   ],
   "source": [
    "for i in ct.descendants:\n",
    "    if isinstance(i,bs4.element.Tag):\n",
    "        print i.name,"
   ]
  },
  {
   "cell_type": "markdown",
   "metadata": {},
   "source": [
    "For more information, the structure of the table **ct** can be printed."
   ]
  },
  {
   "cell_type": "raw",
   "metadata": {
    "collapsed": true
   },
   "source": [
    "print(ct.prettify())"
   ]
  },
  {
   "cell_type": "markdown",
   "metadata": {},
   "source": [
    "2.\n",
    "\n",
    "Write a function retrieve climate table that takes as an argument a Wikipedia URL, and returns the BeautifulSoup object corresponding to the climate data table (if it exists in the page) and returns None if no such table exists on the page."
   ]
  },
  {
   "cell_type": "code",
   "execution_count": 10,
   "metadata": {
    "collapsed": true
   },
   "outputs": [],
   "source": [
    "def retrieve_climate_table(url):\n",
    "    res = urllib2.urlopen(url)\n",
    "    doc = res.read()\n",
    "    ht = BeautifulSoup(doc, 'html.parser')\n",
    "    tables=ht.find_all('table')\n",
    "    reg = re.compile(r'Climate data for .*')\n",
    "    found = False\n",
    "    for t in tables:\n",
    "        ths = t.find_all(['th','caption'])\n",
    "        for th in ths:\n",
    "            st = ''.join([unicode(e) for e in th.contents])\n",
    "            b = bool(re.match(reg,st))\n",
    "            if b:\n",
    "                ct = t\n",
    "                found = True\n",
    "                break\n",
    "    if found:\n",
    "        return ct\n",
    "    else:\n",
    "        return None"
   ]
  },
  {
   "cell_type": "markdown",
   "metadata": {},
   "source": [
    "Test the function by pages for Los Angeles, Hyderabad and Boston"
   ]
  },
  {
   "cell_type": "code",
   "execution_count": 7,
   "metadata": {},
   "outputs": [
    {
     "data": {
      "text/plain": [
       "False"
      ]
     },
     "execution_count": 7,
     "metadata": {},
     "output_type": "execute_result"
    }
   ],
   "source": [
    "retrieve_climate_table('https://en.wikipedia.org/wiki/Buenos_Aires') is None"
   ]
  },
  {
   "cell_type": "code",
   "execution_count": 151,
   "metadata": {},
   "outputs": [
    {
     "data": {
      "text/plain": [
       "False"
      ]
     },
     "execution_count": 151,
     "metadata": {},
     "output_type": "execute_result"
    }
   ],
   "source": [
    "retrieve_climate_table('https://en.wikipedia.org/wiki/Hyderabad') is None"
   ]
  },
  {
   "cell_type": "code",
   "execution_count": 32,
   "metadata": {},
   "outputs": [
    {
     "data": {
      "text/plain": [
       "False"
      ]
     },
     "execution_count": 32,
     "metadata": {},
     "output_type": "execute_result"
    }
   ],
   "source": [
    "retrieve_climate_table('https://en.wikipedia.org/wiki/Boston') is None"
   ]
  },
  {
   "cell_type": "markdown",
   "metadata": {},
   "source": [
    "3.\n",
    "\n",
    "Write a function list climate table row names that takes as an argument a Wikipedia URL and returns a list of the row names of the climate data table, or returns None if no such table exists."
   ]
  },
  {
   "cell_type": "code",
   "execution_count": 11,
   "metadata": {
    "collapsed": true
   },
   "outputs": [],
   "source": [
    "def list_climate_table_row_names(url):\n",
    "    rect = retrieve_climate_table(url)\n",
    "    if rect is None:\n",
    "        return None\n",
    "    rname = []\n",
    "    ths =rect.find_all('th')\n",
    "    for th in ths:\n",
    "        if th.get('scope')=='row':\n",
    "            rname.append(th.get_text())\n",
    "    return rname"
   ]
  },
  {
   "cell_type": "markdown",
   "metadata": {},
   "source": [
    "Test the function by pages for Hyderabad."
   ]
  },
  {
   "cell_type": "code",
   "execution_count": 17,
   "metadata": {},
   "outputs": [
    {
     "data": {
      "text/plain": [
       "[u'Month',\n",
       " u'Record high \\xb0F (\\xb0C)',\n",
       " u'Mean maximum \\xb0F (\\xb0C)',\n",
       " u'Average high \\xb0F (\\xb0C)',\n",
       " u'Daily mean \\xb0F (\\xb0C)',\n",
       " u'Average low \\xb0F (\\xb0C)',\n",
       " u'Mean minimum \\xb0F (\\xb0C)',\n",
       " u'Record low \\xb0F (\\xb0C)',\n",
       " u'Average precipitation inches (mm)',\n",
       " u'Average snowfall inches (cm)',\n",
       " u'Average precipitation days (\\u2265 0.01 in)',\n",
       " u'Average snowy days (\\u2265 0.1 in)',\n",
       " u'Average relative humidity (%)',\n",
       " u'Mean monthly sunshine hours',\n",
       " u'Percent possible sunshine']"
      ]
     },
     "execution_count": 17,
     "metadata": {},
     "output_type": "execute_result"
    }
   ],
   "source": [
    "list_climate_table_row_names('https://en.wikipedia.org/wiki/Boston')"
   ]
  },
  {
   "cell_type": "markdown",
   "metadata": {},
   "source": [
    "4.\n",
    "\n",
    "Pseudo codes are shown below. Here I regard the row that includes column names as a part of the data table, i.e. one row of the table."
   ]
  },
  {
   "cell_type": "raw",
   "metadata": {
    "collapsed": true
   },
   "source": [
    "function retrieve_a_row(url, rowname)\n",
    "    set table to retrieve_climate_table(url)\n",
    "    set rownames to list_climate_table_row_names(url)\n",
    "    if rowname is not in rownames then\n",
    "        return None\n",
    "    set ths to table.find_all('th')\n",
    "    set row to []\n",
    "    for th in ths do\n",
    "        if th.get_text() is rowname and th.get('scope') is 'row' then\n",
    "            set row to th.parent\n",
    "            break\n",
    "    end\n",
    "    set alltag to row.find_all(['th', 'td'])\n",
    "    set rowdata to []\n",
    "    for tag in alltag do\n",
    "        set strdata to tag.get_text()\n",
    "        if strdata is not rowname\n",
    "            set datalist to a list of all data extracted from strdata\n",
    "            set rowdata to the sum of rowdata and datalist\n",
    "    end\n",
    "    return rowdata"
   ]
  },
  {
   "cell_type": "markdown",
   "metadata": {},
   "source": [
    "### Problem 3: Relational Databases: SQL"
   ]
  },
  {
   "cell_type": "markdown",
   "metadata": {},
   "source": [
    "1.\n",
    "\n",
    "Load the database using the Python sqlite3 package. "
   ]
  },
  {
   "cell_type": "code",
   "execution_count": 24,
   "metadata": {
    "collapsed": true
   },
   "outputs": [],
   "source": [
    "import sqlite3\n",
    "conn = sqlite3.connect('Chinook_Sqlite.sqlite')\n",
    "c = conn.cursor()"
   ]
  },
  {
   "cell_type": "markdown",
   "metadata": {},
   "source": [
    "11 tables are in the database. Their names are shown below."
   ]
  },
  {
   "cell_type": "code",
   "execution_count": 25,
   "metadata": {},
   "outputs": [
    {
     "name": "stdout",
     "output_type": "stream",
     "text": [
      "11\n"
     ]
    }
   ],
   "source": [
    "nt = c.execute('''select count(*) from sqlite_master where type=\"table\"''')\n",
    "for i in nt:\n",
    "    print i[0]"
   ]
  },
  {
   "cell_type": "markdown",
   "metadata": {},
   "source": [
    "2.\n",
    "\n",
    "Here are the names of the tables in the database."
   ]
  },
  {
   "cell_type": "code",
   "execution_count": 26,
   "metadata": {},
   "outputs": [
    {
     "name": "stdout",
     "output_type": "stream",
     "text": [
      "Album Artist Customer Employee Genre Invoice InvoiceLine MediaType Playlist PlaylistTrack Track\n"
     ]
    }
   ],
   "source": [
    "namet = c.execute('''select name from sqlite_master where type=\"table\"''')\n",
    "for i in namet:\n",
    "    print i[0],"
   ]
  },
  {
   "cell_type": "markdown",
   "metadata": {},
   "source": [
    "3.\n",
    "\n",
    "List all variables in Album."
   ]
  },
  {
   "cell_type": "code",
   "execution_count": 27,
   "metadata": {},
   "outputs": [
    {
     "data": {
      "text/plain": [
       "(('AlbumId', None, None, None, None, None, None),\n",
       " ('Title', None, None, None, None, None, None),\n",
       " ('ArtistId', None, None, None, None, None, None))"
      ]
     },
     "execution_count": 27,
     "metadata": {},
     "output_type": "execute_result"
    }
   ],
   "source": [
    "al = c.execute('''Select * From Album''')\n",
    "al.description"
   ]
  },
  {
   "cell_type": "markdown",
   "metadata": {},
   "source": [
    "Write a function list album ids by letter that takes as an argument a single character and returns a list of the primary keys of all the albums whose titles start with that character."
   ]
  },
  {
   "cell_type": "code",
   "execution_count": 28,
   "metadata": {
    "collapsed": true
   },
   "outputs": [],
   "source": [
    "def list_album_ids_by_letter(x):\n",
    "    if type(x) != str or len(x) != 1:\n",
    "        return None\n",
    "    t = (x + '%',)\n",
    "    pk = c.execute('SELECT AlbumId FROM Album WHERE Title LIKE ?', t)\n",
    "    pkl = [i[0] for i in pk]\n",
    "    return pkl"
   ]
  },
  {
   "cell_type": "markdown",
   "metadata": {},
   "source": [
    "The function should ignore case."
   ]
  },
  {
   "cell_type": "code",
   "execution_count": 29,
   "metadata": {},
   "outputs": [
    {
     "data": {
      "text/plain": [
       "True"
      ]
     },
     "execution_count": 29,
     "metadata": {},
     "output_type": "execute_result"
    }
   ],
   "source": [
    "list_album_ids_by_letter('a') == list_album_ids_by_letter('A')"
   ]
  },
  {
   "cell_type": "markdown",
   "metadata": {},
   "source": [
    "35 albums are there in the database with titles starting with “B”."
   ]
  },
  {
   "cell_type": "code",
   "execution_count": 30,
   "metadata": {},
   "outputs": [
    {
     "data": {
      "text/plain": [
       "35"
      ]
     },
     "execution_count": 30,
     "metadata": {},
     "output_type": "execute_result"
    }
   ],
   "source": [
    "len(list_album_ids_by_letter('B'))"
   ]
  },
  {
   "cell_type": "markdown",
   "metadata": {},
   "source": [
    "10 albums are there in the database with titles starting with “H”."
   ]
  },
  {
   "cell_type": "code",
   "execution_count": 31,
   "metadata": {},
   "outputs": [
    {
     "data": {
      "text/plain": [
       "10"
      ]
     },
     "execution_count": 31,
     "metadata": {},
     "output_type": "execute_result"
    }
   ],
   "source": [
    "len(list_album_ids_by_letter('H'))"
   ]
  },
  {
   "cell_type": "markdown",
   "metadata": {},
   "source": [
    "4.\n",
    "\n",
    "List all variables in PlaylistTrack and Track."
   ]
  },
  {
   "cell_type": "code",
   "execution_count": 32,
   "metadata": {},
   "outputs": [
    {
     "data": {
      "text/plain": [
       "(('PlaylistId', None, None, None, None, None, None),\n",
       " ('TrackId', None, None, None, None, None, None))"
      ]
     },
     "execution_count": 32,
     "metadata": {},
     "output_type": "execute_result"
    }
   ],
   "source": [
    "plt = c.execute('''Select * From PlaylistTrack''')\n",
    "plt.description"
   ]
  },
  {
   "cell_type": "code",
   "execution_count": 33,
   "metadata": {},
   "outputs": [
    {
     "data": {
      "text/plain": [
       "(('TrackId', None, None, None, None, None, None),\n",
       " ('Name', None, None, None, None, None, None),\n",
       " ('AlbumId', None, None, None, None, None, None),\n",
       " ('MediaTypeId', None, None, None, None, None, None),\n",
       " ('GenreId', None, None, None, None, None, None),\n",
       " ('Composer', None, None, None, None, None, None),\n",
       " ('Milliseconds', None, None, None, None, None, None),\n",
       " ('Bytes', None, None, None, None, None, None),\n",
       " ('UnitPrice', None, None, None, None, None, None))"
      ]
     },
     "execution_count": 33,
     "metadata": {},
     "output_type": "execute_result"
    }
   ],
   "source": [
    "tr = c.execute('''Select * From Track''')\n",
    "tr.description"
   ]
  },
  {
   "cell_type": "markdown",
   "metadata": {},
   "source": [
    "Write a function list song ids by album letter that takes as an argument a single character and returns a list of the primary keys of all the songs whose album names\n",
    "begin with that letter (again ignoring case)."
   ]
  },
  {
   "cell_type": "code",
   "execution_count": 34,
   "metadata": {
    "collapsed": true
   },
   "outputs": [],
   "source": [
    "def list_song_ids_by_album_letter(x):\n",
    "    if type(x) != str or len(x) != 1:\n",
    "        return None\n",
    "    t = (x + '%',)\n",
    "    pk = c.execute('Select TrackId From Track JOIN Album \\\n",
    "                   ON Track.AlbumId = Album.AlbumId WHERE Album.Title LIKE ?', t)\n",
    "    pkl = [i[0] for i in pk]\n",
    "    return pkl"
   ]
  },
  {
   "cell_type": "markdown",
   "metadata": {},
   "source": [
    "252 songs are in all the albums whose titles begin with the letter “m”."
   ]
  },
  {
   "cell_type": "code",
   "execution_count": 35,
   "metadata": {},
   "outputs": [
    {
     "data": {
      "text/plain": [
       "252"
      ]
     },
     "execution_count": 35,
     "metadata": {},
     "output_type": "execute_result"
    }
   ],
   "source": [
    "len(list_song_ids_by_album_letter('m'))"
   ]
  },
  {
   "cell_type": "markdown",
   "metadata": {},
   "source": [
    "0 songs are in all the albums whose titles begin with the letter “y”."
   ]
  },
  {
   "cell_type": "code",
   "execution_count": 36,
   "metadata": {},
   "outputs": [
    {
     "data": {
      "text/plain": [
       "0"
      ]
     },
     "execution_count": 36,
     "metadata": {},
     "output_type": "execute_result"
    }
   ],
   "source": [
    "len(list_song_ids_by_album_letter('y'))"
   ]
  },
  {
   "cell_type": "markdown",
   "metadata": {
    "collapsed": true
   },
   "source": [
    "5.\n",
    "\n",
    "Write a function total cost by album letter that takes as an argument a single character and returns the cost of buying every song whose album begins with that letter."
   ]
  },
  {
   "cell_type": "code",
   "execution_count": 37,
   "metadata": {
    "collapsed": true
   },
   "outputs": [],
   "source": [
    "def total_cost_by_album_letter(x):\n",
    "    if type(x) != str or len(x) != 1:\n",
    "        return None\n",
    "    t = (x + '%',)\n",
    "    pk = c.execute('Select SUM(UnitPrice) From Track JOIN Album \\\n",
    "                   ON Track.AlbumId = Album.AlbumId WHERE Album.Title LIKE ?', t)\n",
    "    pr = [i[0] for i in pk]\n",
    "    if pr[0] is None:\n",
    "        return 0\n",
    "    else:\n",
    "        return round(pr[0], 2)"
   ]
  },
  {
   "cell_type": "markdown",
   "metadata": {},
   "source": [
    "It would cost to buy all tracks in the database whose albums begin with “k”."
   ]
  },
  {
   "cell_type": "code",
   "execution_count": 42,
   "metadata": {},
   "outputs": [
    {
     "data": {
      "text/plain": [
       "46.53"
      ]
     },
     "execution_count": 42,
     "metadata": {},
     "output_type": "execute_result"
    }
   ],
   "source": [
    "total_cost_by_album_letter('k')"
   ]
  }
 ],
 "metadata": {
  "kernelspec": {
   "display_name": "Python [default]",
   "language": "python",
   "name": "python2"
  },
  "language_info": {
   "codemirror_mode": {
    "name": "ipython",
    "version": 2
   },
   "file_extension": ".py",
   "mimetype": "text/x-python",
   "name": "python",
   "nbconvert_exporter": "python",
   "pygments_lexer": "ipython2",
   "version": "2.7.13"
  }
 },
 "nbformat": 4,
 "nbformat_minor": 2
}
