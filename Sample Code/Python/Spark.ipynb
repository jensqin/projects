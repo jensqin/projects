{
 "cells": [
  {
   "cell_type": "markdown",
   "metadata": {},
   "source": [
    "# Stats700-002 Homework 3, Fall 2017\n",
    "### Zhen Qin\n",
    "#### qinzhen@umich.edu"
   ]
  },
  {
   "cell_type": "markdown",
   "metadata": {},
   "source": [
    "### Problem 1: Warmup: counting words with mrjob\n",
    "\n",
    "1.\n",
    "\n",
    "Write an mrjob job called counting.py that takes text as input and counts how many times each word occurs in the text. As for marks, I only regard apostrophes as a part of words."
   ]
  },
  {
   "cell_type": "raw",
   "metadata": {},
   "source": [
    "from mrjob.job import MRJob\n",
    "import re\n",
    "\n",
    "WORD_RE = re.compile(r\"[\\w']+\")\n",
    "\n",
    "class MRNWord(MRJob):\n",
    "\n",
    "    def mapper(self, _, line):\n",
    "        for word in WORD_RE.findall(line):\n",
    "            yield (word.lower(), 1)\n",
    "            \n",
    "    def reducer(self, word, counts):\n",
    "        yield (word, sum(counts))\n",
    "\n",
    "if __name__ == '__main__':\n",
    "    MRNWord.run()"
   ]
  },
  {
   "cell_type": "markdown",
   "metadata": {},
   "source": [
    "2.\n",
    "\n",
    "Test the code on flux-hadoop server. After checking by hand, I think my code is behaving correctly."
   ]
  },
  {
   "cell_type": "raw",
   "metadata": {},
   "source": [
    "[qinzhen@flux-hadoop-login2 mrjob_demo_code]$ python counting.py simple.txt > simple_word_counts.txt\n",
    "[qinzhen@flux-hadoop-login1 mrjob_demo_code]$ cat simple_word_counts.txt"
   ]
  },
  {
   "cell_type": "raw",
   "metadata": {},
   "source": [
    "\"and\"   3\n",
    "\"cats\"  3\n",
    "\"cheese\"        1\n",
    "\"dogs\"  2\n",
    "\"eat\"   2\n",
    "\"fleas\" 1\n",
    "\"have\"  1\n",
    "\"raining\"       1\n",
    "\"rats\"  3"
   ]
  },
  {
   "cell_type": "markdown",
   "metadata": {},
   "source": [
    "3.\n",
    "\n",
    "Run the mrjob job on the file."
   ]
  },
  {
   "cell_type": "raw",
   "metadata": {},
   "source": [
    "[qinzhen@flux-hadoop-login2 mrjob_demo_code]$ python counting.py -r hadoop hdfs:///var/stat700002f17/moby_dick.txt > word_counts.txt"
   ]
  },
  {
   "cell_type": "markdown",
   "metadata": {},
   "source": [
    "4.\n",
    "\n",
    "Make a plot of word frequency."
   ]
  },
  {
   "cell_type": "code",
   "execution_count": 5,
   "metadata": {
    "collapsed": true
   },
   "outputs": [],
   "source": [
    "import numpy as np\n",
    "import matplotlib as mp\n",
    "import matplotlib.pyplot as plt"
   ]
  },
  {
   "cell_type": "code",
   "execution_count": 6,
   "metadata": {
    "collapsed": true
   },
   "outputs": [],
   "source": [
    "f = open('word_counts.txt','r')\n",
    "lis=[]\n",
    "for line in f:\n",
    "    lis.append(line.split())\n",
    "nlis = zip(*lis)[1]\n",
    "nlis = np.array([int(i) for i in nlis])\n",
    "plis = -np.sort(-nlis)"
   ]
  },
  {
   "cell_type": "code",
   "execution_count": 7,
   "metadata": {},
   "outputs": [
    {
     "data": {
      "image/png": "[encoded data removed]",
      "text/plain": [
       "<matplotlib.figure.Figure at 0x9d2a208>"
      ]
     },
     "metadata": {},
     "output_type": "display_data"
    }
   ],
   "source": [
    "%matplotlib inline\n",
    "y = np.log(plis)\n",
    "x = np.log(np.arange(1,len(plis)+1))\n",
    "plt.title('Zipf\\'s law: log-log scale')\n",
    "plt.xlabel('log(rank)')\n",
    "plt.ylabel('log(frequency)')\n",
    "_ = plt.plot(x,y)"
   ]
  },
  {
   "cell_type": "markdown",
   "metadata": {},
   "source": [
    "5.\n",
    "\n",
    "The resulting plot looks approximately like a line."
   ]
  },
  {
   "cell_type": "markdown",
   "metadata": {},
   "source": [
    "### Problem 2: Computing Sample Statistics with mrjob\n",
    "\n",
    "1.\n",
    "\n",
    "Write a mrjob program called mr_summary_stats.py. I use n in the denominator of the sample variance formula."
   ]
  },
  {
   "cell_type": "raw",
   "metadata": {
    "collapsed": true
   },
   "source": [
    "from mrjob.job import MRJob\n",
    "from mrjob.step import MRStep\n",
    "\n",
    "class MRNWord(MRJob):\n",
    "\n",
    "    def steps(self):\n",
    "        return [\n",
    "            MRStep(mapper=self.mapper_get,\n",
    "                   reducer=self.reducer_sum),\n",
    "            MRStep(reducer=self.reducer_compute)\n",
    "        ]\n",
    "\n",
    "    def mapper_get(self, _, line):\n",
    "        pair = line.split()\n",
    "        yield int(pair[0]), (1, float(pair[1]), float(pair[1])**2)\n",
    "\n",
    "    def reducer_sum(self, word, values):\n",
    "        yield word, reduce(lambda x,y: (x[0]+y[0], x[1]+y[1], x[2]+y[2]), values)\n",
    "\n",
    "    def reducer_compute(self, word, values):\n",
    "        yield word, map(lambda x: (x[0], x[1]/x[0], x[2]/x[0]-(x[1]/x[0])**2), values)[0]\n",
    "\n",
    "if __name__ == '__main__':\n",
    "    MRNWord.run()"
   ]
  },
  {
   "cell_type": "markdown",
   "metadata": {},
   "source": [
    "2.\n",
    "\n",
    "Write the output to a file called summary_small.txt on flux-hadoop server. I inspect the program’s output and make sure that it is behaving as expected."
   ]
  },
  {
   "cell_type": "raw",
   "metadata": {},
   "source": [
    "[qinzhen@flux-hadoop-login1 mrjob_demo_code]$ python mr_summary_stats.py populations_small.txt > summary_small.txt\n",
    "[qinzhen@flux-hadoop-login1 mrjob_demo_code]$ cat summary_small.txt"
   ]
  },
  {
   "cell_type": "raw",
   "metadata": {},
   "source": [
    "0       [3, 0.0, 2.6666666666666665]\n",
    "1       [4, 10.0, 0.0]\n",
    "2       [5, 5.0, 8.0]"
   ]
  },
  {
   "cell_type": "markdown",
   "metadata": {},
   "source": [
    "3.\n",
    "\n",
    "Save the output to a file called summary_large.txt."
   ]
  },
  {
   "cell_type": "raw",
   "metadata": {},
   "source": [
    "[qinzhen@flux-hadoop-login1 mrjob_demo_code]$ python mr_summary_stats.py -r hadoop hdfs:///var/stat700002f17/populations_large.txt > summary_large.txt\n",
    "[qinzhen@flux-hadoop-login1 mrjob_demo_code]$ cat summary_large.txt"
   ]
  },
  {
   "cell_type": "raw",
   "metadata": {},
   "source": [
    "0       [83600, 4.773935629964137, 490993.45243790746]\n",
    "1       [83087, -12.361767651907105, 467100.8981140686]\n",
    "10      [83657, -14.666192221511492, 446076.3450347326]\n",
    "11      [83375, -1.7323785162578742, 236884.08548549315]\n",
    "2       [83648, -12.645073579188846, 228270.62775098145]\n",
    "3       [83325, -8.475245279256086, 360598.71315346693]\n",
    "4       [83085, -9.028966648612847, 296398.21747314656]\n",
    "5       [83840, -11.389694014658927, 424077.49232982803]\n",
    "6       [83733, 6.90322517424433, 584220.674423516]\n",
    "7       [82677, 12.337012114396911, 376030.03524316824]\n",
    "8       [82880, -4.722120531998074, 586538.4539580637]\n",
    "9       [83093, 1.784695478030659, 551611.8075808571]"
   ]
  },
  {
   "cell_type": "markdown",
   "metadata": {},
   "source": [
    "4.\n",
    "\n",
    "Use matplotlib and the results in summary large.txt to create a plot displaying 95% confidence intervals for the sample means。"
   ]
  },
  {
   "cell_type": "code",
   "execution_count": 2,
   "metadata": {
    "collapsed": true
   },
   "outputs": [],
   "source": [
    "import matplotlib as mp\n",
    "import matplotlib.pyplot as plt\n",
    "import re\n",
    "import numpy as np\n",
    "from scipy.stats import norm\n",
    "%matplotlib inline"
   ]
  },
  {
   "cell_type": "code",
   "execution_count": 3,
   "metadata": {
    "collapsed": true
   },
   "outputs": [],
   "source": [
    "f = open('summary_large.txt')\n",
    "regex = re.compile(r'([0-9]+)\\s*\\[(.*), (.*), (.*)\\]')\n",
    "large = []\n",
    "pct = norm.ppf(0.975, loc = 0, scale = 1)\n",
    "for line in f:\n",
    "    m = re.search(regex, line)\n",
    "    mlabel = float(m.group(1))\n",
    "    mnum = float(m.group(2))\n",
    "    mmean = float(m.group(3))\n",
    "    mvar = float(m.group(4))\n",
    "    mmse = pct * np.sqrt(mvar)/np.sqrt(mnum)\n",
    "    tmp = [mlabel, mmean - mmse, mmean + mmse]\n",
    "    large.append(tmp)\n",
    "large = np.array(sorted(large))"
   ]
  },
  {
   "cell_type": "code",
   "execution_count": 4,
   "metadata": {
    "scrolled": true
   },
   "outputs": [
    {
     "data": {
      "image/png": "[encoded data removed]",
      "text/plain": [
       "<matplotlib.figure.Figure at 0x98e50b8>"
      ]
     },
     "metadata": {},
     "output_type": "display_data"
    }
   ],
   "source": [
    "plt.title('confidence intervals')\n",
    "plt.xlabel('class label')\n",
    "plt.ylabel('quantity')\n",
    "_ = plt.boxplot(list(large[:,1:3]), showcaps = False, whis = 0, showfliers = False,labels=list(np.int64(large[:,0])))"
   ]
  },
  {
   "cell_type": "markdown",
   "metadata": {},
   "source": [
    "### Problem 3: Graph Processing: Counting Triangles with pySpark\n",
    "\n",
    "1.\n",
    "\n",
    "Write a PySpark job called triangle.py that takes the described input and produces a list of all the triangles in the network, one per line."
   ]
  },
  {
   "cell_type": "raw",
   "metadata": {
    "collapsed": true
   },
   "source": [
    "from pyspark import SparkConf, SparkContext\n",
    "import sys\n",
    "\n",
    "if len(sys.argv) != 3:\n",
    "    print('Usage: ' + sys.argv[0] + ' <in> <out>')\n",
    "    sys.exit(1)\n",
    "iloc = sys.argv[1]\n",
    "oloc = sys.argv[2]\n",
    "\n",
    "conf = SparkConf().setAppName('Count Triangles')\n",
    "sc = SparkContext(conf = conf)\n",
    "\n",
    "da = sc.textFile(iloc)\n",
    "da = da.map(lambda line: line.split())\n",
    "da = da.map(lambda l: [int(k) for k in l])\n",
    "da = da.flatMap(lambda l: [sorted((l[0], l[i], l[j])) for i in range(1, len(l)) for j in range(1, len(l)) if i < j])\n",
    "da = da.map(lambda l: (tuple(l), 1))\n",
    "da = da.reduceByKey(lambda x, y: x + y)\n",
    "da = da.filter(lambda l: l[1] >= 2)\n",
    "da = da.map(lambda l: l[0])\n",
    "da = da.map(lambda l: str(l[0]) + ' ' +str(l[1]) + ' ' + str(l[2]))\n",
    "\n",
    "da.saveAsTextFile(oloc)\n",
    "sc.stop()"
   ]
  },
  {
   "cell_type": "markdown",
   "metadata": {},
   "source": [
    "2.\n",
    "\n",
    "Test the script on the set of 5 simple files in the HDFS directory. After checking by hand, I think my code is behaving correctly. There are 6 triangles."
   ]
  },
  {
   "cell_type": "raw",
   "metadata": {},
   "source": [
    "[qinzhen@flux-hadoop-login2 STATS700-002]$ spark-submit --master yarn-client --queue stat700-002-f17 triangle.py /var/stat700002f17/fof/friends.simple tr\n",
    "[qinzhen@flux-hadoop-login2 STATS700-002]$ hdfs dfs -cat tr/* > small_triangle_list.txt\n",
    "[qinzhen@flux-hadoop-login2 STATS700-002]$ hdfs dfs -cat tr/*"
   ]
  },
  {
   "cell_type": "raw",
   "metadata": {},
   "source": [
    "100 200 217\n",
    "300 400 500\n",
    "100 200 300\n",
    "100 200 400\n",
    "200 300 400\n",
    "100 300 400"
   ]
  },
  {
   "cell_type": "markdown",
   "metadata": {},
   "source": [
    "3.\n",
    "\n",
    "Run the script on the larger input."
   ]
  },
  {
   "cell_type": "raw",
   "metadata": {},
   "source": [
    "[qinzhen@flux-hadoop-login2 STATS700-002]$ spark-submit --master yarn-client --queue stat700-002-f17 triangle.py  /var/stat700002f17/fof/friends1000 tr1000/\n",
    "[qinzhen@flux-hadoop-login2 STATS700-002]$ hdfs dfs -cat tr1000/* > big_triangle_list.txt"
   ]
  }
 ],
 "metadata": {
  "kernelspec": {
   "display_name": "Python [default]",
   "language": "python",
   "name": "python2"
  },
  "language_info": {
   "codemirror_mode": {
    "name": "ipython",
    "version": 2
   },
   "file_extension": ".py",
   "mimetype": "text/x-python",
   "name": "python",
   "nbconvert_exporter": "python",
   "pygments_lexer": "ipython2",
   "version": "2.7.13"
  }
 },
 "nbformat": 4,
 "nbformat_minor": 2
}
